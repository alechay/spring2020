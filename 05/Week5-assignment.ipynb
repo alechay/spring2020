{
 "cells": [
  {
   "cell_type": "markdown",
   "metadata": {},
   "source": [
    "Before you turn this problem in, make sure everything runs as expected. First, restart the kernel (in the menubar, select Kernel$\\rightarrow$Restart) and then run all cells (in the menubar, select Cell$\\rightarrow$Run All).\n",
    "\n",
    "Make sure you fill in any place that says YOUR CODE HERE or \"YOUR ANSWER HERE\"."
   ]
  },
  {
   "cell_type": "markdown",
   "metadata": {},
   "source": [
    "\n",
    "Week5 Assignment - Cross-Validation.¶\n",
    "For this assignment, you will use a generated dataset to practice cross-validation and parameter optimization.\n",
    "\n",
    "In the first component, you will run linear regression using cross-validation.\n",
    "\n",
    "In the second component, you will run linear regression using Lasso and cross-validation.\n",
    "\n",
    "In the third component, you will run linear regression with nested cross-validation.\n",
    "\n",
    "All the exercises are designed so that the solutions will need only one or a few lines of code.\n",
    "\n",
    "Do not hesitate to contact instuctors and TA via #week5 channel on Slack if you get stuck. Join the channel first by clicking on Channels."
   ]
  },
  {
   "cell_type": "markdown",
   "metadata": {},
   "source": [
    "\n",
    "Part A. Run linear regression with cross-validation.\n",
    "In this component you will run linear regression with 5-fold cross-validation.\n",
    "\n",
    "We have provided you with features X and response y. We've also provided a premade cross-validation iterator.\n",
    "\n",
    "Build a linear model and use SKLearn's cross_val_score function to assess how well your model generalizes. Save the array from cross_val_score to a variable named cv_score.\n",
    "\n",
    "When you run cross_val_score, make sure to:\n",
    "\n",
    "Use the cross-validation iterator that we provide (cv_iterator)\n",
    "Set the scoring function to \"neg_mean_squared_error\""
   ]
  },
  {
   "cell_type": "code",
   "execution_count": 1,
   "metadata": {},
   "outputs": [],
   "source": [
    "import pandas as pd\n",
    "import numpy as np\n",
    "\n",
    "from sklearn.datasets import make_regression\n",
    "from sklearn.model_selection import KFold\n",
    "from sklearn.model_selection import cross_val_score\n",
    "from sklearn.linear_model import LinearRegression\n",
    "\n",
    "# Generate data\n",
    "X, y = make_regression(n_samples=100, n_features=100, n_informative=10, random_state=10)\n",
    "\n",
    "# Iterator setup\n",
    "cv_iterator = KFold(n_splits=5, shuffle=True, random_state=10)\n",
    "\n",
    "# YOUR CODE HERE\n",
    "pass"
   ]
  },
  {
   "cell_type": "code",
   "execution_count": null,
   "metadata": {},
   "outputs": [],
   "source": [
    "assert type(cv_score) == np.ndarray\n",
    "assert cv_score.shape == (5,)\n",
    "assert np.isclose(cv_score.mean(), -6327, atol=200)"
   ]
  },
  {
   "cell_type": "markdown",
   "metadata": {},
   "source": [
    "\n",
    "Part B. Run linear regression with Lasso and cross-validation.\n",
    "Similar to component (A), but this time use Lasso regression with hyperparameter alpha = 0.5. You can read more about Lasso regularization here: https://scikit-learn.org/stable/modules/linear_model.html#lasso Note the role of hyperparameter alpha.\n",
    "\n",
    "Also, this Datacamp tutorial may be helpful: https://www.datacamp.com/community/tutorials/tutorial-ridge-lasso-elastic-net\n",
    "\n",
    "Again, save the array from cross_val_score to a variable named cv_score."
   ]
  },
  {
   "cell_type": "code",
   "execution_count": 2,
   "metadata": {},
   "outputs": [],
   "source": [
    "from sklearn.linear_model import Lasso\n",
    "\n",
    "cv_iterator = KFold(n_splits=5, shuffle=True, random_state=10)\n",
    "\n",
    "# YOUR CODE HERE\n",
    "pass"
   ]
  },
  {
   "cell_type": "code",
   "execution_count": null,
   "metadata": {},
   "outputs": [],
   "source": [
    "\n",
    "assert type(cv_score) == np.ndarray\n",
    "assert np.isclose(cv_score.mean(), -4, atol=1)"
   ]
  },
  {
   "cell_type": "markdown",
   "metadata": {},
   "source": [
    "\n",
    "Part C. Run nested cross-validation.\n",
    "Run nested cross-validation, while optimizing for parameter alpha. We have provided the grid for parameter alpha and the CV iterators. Save the final array from cross_val_score into a variable named cv_score.\n",
    "\n",
    "You can read more about nested cross-validation in this Tutorial: https://scikit-learn.org/stable/tutorial/statistical_inference/model_selection.html.\n",
    "\n",
    "Explore documentation for GridSearchCV https://scikit-learn.org/stable/modules/generated/sklearn.model_selection.GridSearchCV.html, in particular its arguments: esstimator, param_grid, cv.\n",
    "\n",
    "You may also need documentation for cross_val_score https://scikit-learn.org/stable/modules/generated/sklearn.model_selection.cross_val_score.html , which also has estimator and cv, in addition to the benchmark labeled dataset X with the labels in variable y.\n",
    "\n",
    "In this exercise we also want to use \"neg_mean_squared_error\" scoring for consistency.\n",
    "\n"
   ]
  },
  {
   "cell_type": "code",
   "execution_count": 4,
   "metadata": {},
   "outputs": [],
   "source": [
    "\n",
    "from sklearn.linear_model import Lasso\n",
    "from sklearn.model_selection import cross_val_score, KFold, GridSearchCV\n",
    "from sklearn.metrics import mean_squared_error\n",
    "\n",
    "# CV iterators:\n",
    "# we will use \"inner\" cross-validation to find optimal hyperparameters\n",
    "inner_cv_iterator = KFold(n_splits=5, shuffle=True, random_state=10)\n",
    "# the \"outer\" cross-validation iterator will give us \n",
    "outer_cv_iterator = KFold(n_splits=5, shuffle=True, random_state=10)\n",
    "\n",
    "\n",
    "# (hyper)parameter grid for Lasso()\n",
    "p_grid = {\n",
    "    \"alpha\": [0.1, 0.5, 1, 1.5]\n",
    "}\n",
    "\n",
    "# YOUR CODE HERE\n",
    "pass"
   ]
  },
  {
   "cell_type": "code",
   "execution_count": null,
   "metadata": {},
   "outputs": [],
   "source": [
    "\n",
    "assert type(cv_score) == np.ndarray\n",
    "assert cv_score.shape == (5,)\n",
    "assert np.isclose(-0.167, cv_score.mean(), atol=0.05)"
   ]
  }
 ],
 "metadata": {
  "kernelspec": {
   "display_name": "Python 3",
   "language": "python",
   "name": "python3"
  },
  "language_info": {
   "codemirror_mode": {
    "name": "ipython",
    "version": 3
   },
   "file_extension": ".py",
   "mimetype": "text/x-python",
   "name": "python",
   "nbconvert_exporter": "python",
   "pygments_lexer": "ipython3",
   "version": "3.7.3"
  }
 },
 "nbformat": 4,
 "nbformat_minor": 4
}
